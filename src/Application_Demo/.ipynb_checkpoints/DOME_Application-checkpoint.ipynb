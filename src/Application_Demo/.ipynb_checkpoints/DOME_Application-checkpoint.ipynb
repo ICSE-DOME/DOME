{
 "cells": [
  {
   "cell_type": "markdown",
   "id": "84d878e8",
   "metadata": {},
   "source": [
    "## Comment Comment Generator (DOME)\n",
    "you can use DOME to generate intent-aware comments"
   ]
  },
  {
   "cell_type": "code",
   "execution_count": 2,
   "id": "329ac926",
   "metadata": {},
   "outputs": [],
   "source": [
    "from src.comment_generator.DOME import Generator"
   ]
  },
  {
   "cell_type": "code",
   "execution_count": null,
   "id": "22d88f58",
   "metadata": {},
   "outputs": [],
   "source": [
    "# using DOME to generate a comment given a code snippet and the user-intent\n",
    "# 1. load the well-trained DOME\n",
    "class Config(object):\n",
    "    def __init__(self):\n",
    "        self.bpe_model = f'./bpe_tokenizer_all_token.json'\n",
    "        self.tokenizer = Tokenizer.from_file(self.bpe_model)\n",
    "        self.vocab_size = self.tokenizer.get_vocab_size()\n",
    "        self.eos_token = self.tokenizer.token_to_id('[EOS]')\n",
    "\n",
    "        self.d_model = 512\n",
    "        self.d_intent = 128\n",
    "        self.d_ff = 2048\n",
    "        self.head_num = 8\n",
    "        self.enc_layer_num = 6\n",
    "        self.dec_layer_num = 6\n",
    "        self.max_token_inline = 25\n",
    "        self.max_line_num = 15\n",
    "        self.max_comment_len = 30\n",
    "        self.clip_dist_code = 8\n",
    "        self.intent_num = 5\n",
    "        self.stat_k = 5\n",
    "        self.token_k = 10\n",
    "        self.beam_width = 5\n",
    "        self.batch_size = 64\n",
    "        self.dropout = 0.2\n",
    "    \n",
    "config = Config()\n",
    "generator = Generator(config.d_model, config.d_intent, config.d_ff, config.head_num, config.enc_layer_num,\n",
    "                      config.dec_layer_num, config.vocab_size, config.max_comment_len, config.clip_dist_code, config.eos_token,\n",
    "                      config.intent_num, config.stat_k, config.token_k, config.dropout, None)\n",
    "\n",
    "print(\"load the parameters of the pretrained generator!\")\n",
    "model.load_state_dict(torch.load(f\"./saved_model/{config.dataset}/comment_generator.pkl\"))\n",
    "generator.cuda()"
   ]
  }
 ],
 "metadata": {
  "kernelspec": {
   "display_name": "Python [conda env:torch] *",
   "language": "python",
   "name": "conda-env-torch-py"
  },
  "language_info": {
   "codemirror_mode": {
    "name": "ipython",
    "version": 3
   },
   "file_extension": ".py",
   "mimetype": "text/x-python",
   "name": "python",
   "nbconvert_exporter": "python",
   "pygments_lexer": "ipython3",
   "version": "3.9.6"
  }
 },
 "nbformat": 4,
 "nbformat_minor": 5
}
